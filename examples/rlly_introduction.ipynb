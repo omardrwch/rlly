{
 "cells": [
  {
   "cell_type": "markdown",
   "metadata": {},
   "source": [
    "## rlly\n",
    "\n",
    "rlly is a C++ library containing environments for reinforcement learning. It aims to be the C++ counterpart of [OpenAI gym](https://gym.openai.com/)."
   ]
  },
  {
   "cell_type": "markdown",
   "metadata": {},
   "source": [
    "# Interacting with the environments"
   ]
  },
  {
   "cell_type": "markdown",
   "metadata": {},
   "source": [
    "### Chain"
   ]
  },
  {
   "cell_type": "code",
   "execution_count": 1,
   "metadata": {},
   "outputs": [],
   "source": [
    "#include <iostream>\n",
    "#include <vector>\n",
    "#include <string>\n",
    "#include \"../rlly.hpp\""
   ]
  },
  {
   "cell_type": "code",
   "execution_count": 2,
   "metadata": {},
   "outputs": [],
   "source": [
    "// Chain environment\n",
    "rlly::env::Chain chain(4);\n",
    "\n",
    "int horizon = 3;\n",
    "int state;"
   ]
  },
  {
   "cell_type": "code",
   "execution_count": 3,
   "metadata": {
    "scrolled": true
   },
   "outputs": [
    {
     "name": "stdout",
     "output_type": "stream",
     "text": [
      "state = 0\n",
      "action = 0\n",
      "reward = 0\n",
      "next_state = 1\n",
      "\n",
      "state = 1\n",
      "action = 1\n",
      "reward = 0\n",
      "next_state = 0\n",
      "\n",
      "state = 0\n",
      "action = 1\n",
      "reward = 0\n",
      "next_state = 0\n",
      "\n"
     ]
    }
   ],
   "source": [
    "// Get initial state\n",
    "state = chain.reset();\n",
    "\n",
    "// Execute a random policy for some time\n",
    "for(int hh = 0 ; hh < horizon; hh++)\n",
    "{\n",
    "    auto action = chain.action_space.sample();\n",
    "    auto step_result = chain.step(action);\n",
    "    \n",
    "    std::cout << \"state = \"      << state << std::endl;\n",
    "    std::cout << \"action = \"     << action << std::endl;\n",
    "    std::cout << \"reward = \"     << step_result.reward << std::endl;\n",
    "    std::cout << \"next_state = \" << step_result.next_state << std::endl;\n",
    "    std::cout << std::endl;\n",
    "\n",
    "    if (step_result.done) break;\n",
    "    state = step_result.next_state;\n",
    "}"
   ]
  },
  {
   "cell_type": "markdown",
   "metadata": {},
   "source": [
    "### GridWorld"
   ]
  },
  {
   "cell_type": "code",
   "execution_count": 4,
   "metadata": {},
   "outputs": [],
   "source": [
    "// GridWorld parameters\n",
    "double fail_prob = 0.0;  // probability of going to the wrong direction when taking an action\n",
    "double reward_smoothness = 0.0;      // reward = exp( - dist(next_state, goal_state)^2 / reward_smoothness^2)\n",
    "double sigma = 0.1;  // standard dev of reward noise (Gaussian)\n",
    "int nrows = 2; // number of rows\n",
    "int ncols = 2; // number of columns\n",
    "\n",
    "// GridWorld\n",
    "rlly::env::GridWorld gridworld(nrows, ncols, fail_prob, reward_smoothness, sigma);\n",
    "\n",
    "// Meaning of each action\n",
    "std::vector<std::string> action_meaning = {\"left\", \"right\", \"up\", \"down\"};"
   ]
  },
  {
   "cell_type": "code",
   "execution_count": 5,
   "metadata": {},
   "outputs": [
    {
     "name": "stdout",
     "output_type": "stream",
     "text": [
      "\n",
      "Start = \n",
      "--------\n",
      " A   o  \n",
      " o   x  \n",
      "--------\n",
      "\n",
      "Action = down\n",
      "--------\n",
      " o   o  \n",
      " A   x  \n",
      "--------\n",
      "\n",
      "Action = right\n",
      "--------\n",
      " o   o  \n",
      " o   x  \n",
      "--------\n"
     ]
    }
   ],
   "source": [
    "// ASCII visualization\n",
    "std::cout << std::endl;\n",
    "std::cout << \"Start = \" << std::endl;\n",
    "gridworld.render();\n",
    "\n",
    "// Execute a random policy for some time\n",
    "for(int hh = 0 ; hh < horizon; hh++)\n",
    "{\n",
    "\n",
    "    // Take action\n",
    "    auto action = gridworld.action_space.sample();    \n",
    "    auto step_result = gridworld.step(action);\n",
    "    std::cout << std::endl;\n",
    "    std::cout << \"Action = \" << action_meaning[action] << std::endl;\n",
    "    gridworld.render();\n",
    "    \n",
    "    if (step_result.done) break;\n",
    "}"
   ]
  },
  {
   "cell_type": "markdown",
   "metadata": {},
   "source": [
    "### MountainCar"
   ]
  },
  {
   "cell_type": "code",
   "execution_count": 6,
   "metadata": {},
   "outputs": [],
   "source": [
    "// MountainCar\n",
    "rlly::env::MountainCar mountain_car;\n",
    "\n",
    "// The state of MountainCar is stored in a vector\n",
    "std::vector<double> continuous_state;"
   ]
  },
  {
   "cell_type": "code",
   "execution_count": 7,
   "metadata": {},
   "outputs": [
    {
     "name": "stdout",
     "output_type": "stream",
     "text": [
      "state = {-0.18513, 0}\n",
      "action = 2\n",
      "reward = 0\n",
      "next_state = {-0.186254, -0.00112424}\n",
      "\n",
      "state = {-0.186254, -0.00112424}\n",
      "action = 1\n",
      "reward = 0\n",
      "next_state = {-0.189498, -0.00324401}\n",
      "\n",
      "state = {-0.189498, -0.00324401}\n",
      "action = 1\n",
      "reward = 0\n",
      "next_state = {-0.194849, -0.00535079}\n",
      "\n"
     ]
    }
   ],
   "source": [
    "continuous_state = mountain_car.reset();\n",
    "\n",
    "// Execute a random policy for some time\n",
    "for(int hh = 0 ; hh < horizon; hh++)\n",
    "{\n",
    "    // Take action\n",
    "    auto action = mountain_car.action_space.sample();    \n",
    "    auto step_result = mountain_car.step(action);\n",
    "\n",
    "    std::cout << \"state = \"; rlly::utils::vec::printvec(continuous_state);\n",
    "    std::cout << \"action = \"     << action << std::endl;\n",
    "    std::cout << \"reward = \"     << step_result.reward << std::endl;\n",
    "    std::cout << \"next_state = \"; rlly::utils::vec::printvec(step_result.next_state);\n",
    "    std::cout << std::endl;\n",
    "    \n",
    "    if (step_result.done) break;\n",
    "    continuous_state = step_result.next_state;\n",
    "}"
   ]
  }
 ],
 "metadata": {
  "kernelspec": {
   "display_name": "C++17",
   "language": "C++17",
   "name": "xcpp17"
  },
  "language_info": {
   "codemirror_mode": "text/x-c++src",
   "file_extension": ".cpp",
   "mimetype": "text/x-c++src",
   "name": "c++",
   "version": "17"
  }
 },
 "nbformat": 4,
 "nbformat_minor": 4
}
