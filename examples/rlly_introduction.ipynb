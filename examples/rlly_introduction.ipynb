{
 "cells": [
  {
   "cell_type": "markdown",
   "metadata": {},
   "source": [
    "## rlly\n",
    "\n",
    "rlly is a C++ library containing environments for reinforcement learning. It aims to be the C++ counterpart of [OpenAI gym](https://gym.openai.com/)."
   ]
  },
  {
   "cell_type": "markdown",
   "metadata": {},
   "source": [
    "# Interacting with an environment"
   ]
  },
  {
   "cell_type": "code",
   "execution_count": 1,
   "metadata": {},
   "outputs": [],
   "source": [
    "#include <iostream>\n",
    "#include \"../rlly.hpp\""
   ]
  },
  {
   "cell_type": "code",
   "execution_count": 2,
   "metadata": {},
   "outputs": [
    {
     "name": "stdout",
     "output_type": "stream",
     "text": [
      "state = 0\n",
      "action = 1\n",
      "reward = 0\n",
      "next_state = 0\n",
      "\n",
      "state = 0\n",
      "action = 1\n",
      "reward = 0\n",
      "next_state = 0\n",
      "\n",
      "state = 0\n",
      "action = 1\n",
      "reward = 0\n",
      "next_state = 0\n",
      "\n",
      "state = 0\n",
      "action = 0\n",
      "reward = 0\n",
      "next_state = 1\n",
      "\n",
      "state = 0\n",
      "action = 1\n",
      "reward = 0\n",
      "next_state = 0\n",
      "\n",
      "state = 0\n",
      "action = 0\n",
      "reward = 0\n",
      "next_state = 1\n",
      "\n",
      "state = 0\n",
      "action = 1\n",
      "reward = 0\n",
      "next_state = 0\n",
      "\n",
      "state = 0\n",
      "action = 0\n",
      "reward = 0\n",
      "next_state = 1\n",
      "\n",
      "state = 0\n",
      "action = 1\n",
      "reward = 0\n",
      "next_state = 0\n",
      "\n",
      "state = 0\n",
      "action = 0\n",
      "reward = 0\n",
      "next_state = 1\n",
      "\n"
     ]
    }
   ],
   "source": [
    "rlly::env::Chain env(4);\n",
    "int horizon = 10;\n",
    "    \n",
    "auto state = env.reset();\n",
    "for(int hh = 0 ; hh < horizon; hh++)\n",
    "{\n",
    "    auto action = env.action_space.sample();\n",
    "    auto step_result = env.step(action);\n",
    "//     rlly::env::StepResult<int> step_result = env.step(action);\n",
    "    \n",
    "    std::cout << \"state = \"      << state << std::endl;\n",
    "    std::cout << \"action = \"     << action << std::endl;\n",
    "    std::cout << \"reward = \"     << step_result.reward << std::endl;\n",
    "    std::cout << \"next_state = \" << step_result.next_state << std::endl;\n",
    "    std::cout << std::endl;\n",
    "}"
   ]
  },
  {
   "cell_type": "code",
   "execution_count": 3,
   "metadata": {},
   "outputs": [
    {
     "name": "stdout",
     "output_type": "stream",
     "text": [
      "3\n"
     ]
    }
   ],
   "source": [
    "int pierre = 3;\n",
    "std::cout << pierre << std::endl;"
   ]
  },
  {
   "cell_type": "code",
   "execution_count": 4,
   "metadata": {},
   "outputs": [
    {
     "data": {
      "text/plain": [
       "3"
      ]
     },
     "execution_count": 4,
     "metadata": {},
     "output_type": "execute_result"
    }
   ],
   "source": [
    "pierre"
   ]
  }
 ],
 "metadata": {
  "kernelspec": {
   "display_name": "C++17",
   "language": "C++17",
   "name": "xcpp17"
  },
  "language_info": {
   "codemirror_mode": "text/x-c++src",
   "file_extension": ".cpp",
   "mimetype": "text/x-c++src",
   "name": "c++",
   "version": "17"
  }
 },
 "nbformat": 4,
 "nbformat_minor": 4
}
